{
  "nbformat": 4,
  "nbformat_minor": 0,
  "metadata": {
    "colab": {
      "name": "Mini Project- malaria",
      "version": "0.3.2",
      "provenance": [],
      "collapsed_sections": [],
      "toc_visible": true
    },
    "kernelspec": {
      "name": "python3",
      "display_name": "Python 3"
    }
  },
  "cells": [
    {
      "cell_type": "code",
      "metadata": {
        "id": "wlGQUh95gzs9",
        "colab_type": "code",
        "colab": {}
      },
      "source": [
        "import numpy as np\n",
        "import keras\n",
        "import os\n",
        "import cv2\n",
        "import tensorflow\n",
        "from keras.utils import np_utils\n",
        "from keras.models import Sequential\n",
        "from keras.layers import Conv2D,MaxPooling2D,Dense,Flatten, Dropout\n"
      ],
      "execution_count": 0,
      "outputs": []
    },
    {
      "cell_type": "code",
      "metadata": {
        "id": "CWVuUW-ijIUf",
        "colab_type": "code",
        "colab": {}
      },
      "source": [
        "from PIL import Image\n",
        "import pandas as pd\n"
      ],
      "execution_count": 0,
      "outputs": []
    },
    {
      "cell_type": "code",
      "metadata": {
        "id": "y76fhCB3xY2Y",
        "colab_type": "code",
        "colab": {}
      },
      "source": [
        "data=[]\n",
        "labels=[]"
      ],
      "execution_count": 0,
      "outputs": []
    },
    {
      "cell_type": "code",
      "metadata": {
        "id": "iBwpN9GYxg0Q",
        "colab_type": "code",
        "colab": {}
      },
      "source": [
        "Parasitized=os.listdir(\"../content/cell_images/Parasitized\")\n",
        "Uninfected=os.listdir(\"../content/cell_images/Uninfected\")"
      ],
      "execution_count": 0,
      "outputs": []
    },
    {
      "cell_type": "code",
      "metadata": {
        "id": "rmUrTkLY0ftI",
        "colab_type": "code",
        "colab": {}
      },
      "source": [
        "\n",
        "Uninfected"
      ],
      "execution_count": 0,
      "outputs": []
    },
    {
      "cell_type": "code",
      "metadata": {
        "id": "LxuTGYmEyJsH",
        "colab_type": "code",
        "colab": {}
      },
      "source": [
        "for filename in Parasitized:\n",
        "  try:\n",
        "      image=cv2.imread(\"../content/cell_images/Parasitized/\" + filename)\n",
        "      image_from_array=Image.fromarray(image,'RGB')\n",
        "      size_image=image_from_array.resize((50,50))\n",
        "      data.append(np.array(size_image))\n",
        "      labels.append(1)\n",
        "  except AttributeError:\n",
        "      print(\"\")"
      ],
      "execution_count": 0,
      "outputs": []
    },
    {
      "cell_type": "code",
      "metadata": {
        "id": "nzz1C7Nb04hn",
        "colab_type": "code",
        "colab": {}
      },
      "source": [
        "for filename in Uninfected:\n",
        "  try:\n",
        "      image=cv2.imread(\"../content/cell_images/Uninfected/\" + filename)\n",
        "      image_from_array=Image.fromarray(image,'RGB')\n",
        "      size_image=image_from_array.resize((50,50))\n",
        "      data.append(np.array(size_image))\n",
        "      labels.append(0)\n",
        "  except AttributeError:\n",
        "      print(\"\")"
      ],
      "execution_count": 0,
      "outputs": []
    },
    {
      "cell_type": "code",
      "metadata": {
        "id": "ciDZR06O05F7",
        "colab_type": "code",
        "colab": {}
      },
      "source": [
        "data"
      ],
      "execution_count": 0,
      "outputs": []
    },
    {
      "cell_type": "code",
      "metadata": {
        "id": "0NOB7wv_16BY",
        "colab_type": "code",
        "colab": {}
      },
      "source": [
        "Cells=np.array(data)\n",
        "labels=np.array(labels)"
      ],
      "execution_count": 0,
      "outputs": []
    },
    {
      "cell_type": "code",
      "metadata": {
        "id": "asK2SzMJ2Im6",
        "colab_type": "code",
        "colab": {}
      },
      "source": [
        "Cells"
      ],
      "execution_count": 0,
      "outputs": []
    },
    {
      "cell_type": "code",
      "metadata": {
        "id": "fWycifUv2RYo",
        "colab_type": "code",
        "colab": {}
      },
      "source": [
        "s=np.arange(Cells.shape[0])\n",
        "np.random.shuffle(s)\n",
        "Cells=Cells[s]\n",
        "labels=labels[s]"
      ],
      "execution_count": 0,
      "outputs": []
    },
    {
      "cell_type": "code",
      "metadata": {
        "id": "mBZKA1M924Wu",
        "colab_type": "code",
        "colab": {}
      },
      "source": [
        "num_classes=len(np.unique(labels))\n",
        "len_data=len(Cells)"
      ],
      "execution_count": 0,
      "outputs": []
    },
    {
      "cell_type": "code",
      "metadata": {
        "id": "z_qwmvy-3CWn",
        "colab_type": "code",
        "colab": {}
      },
      "source": [
        "from sklearn.model_selection import train_test_split"
      ],
      "execution_count": 0,
      "outputs": []
    },
    {
      "cell_type": "code",
      "metadata": {
        "id": "l5-fwEAH3LYg",
        "colab_type": "code",
        "colab": {}
      },
      "source": [
        "labels=keras.utils.to_categorical(labels, num_classes)\n",
        "Cells=Cells/255\n",
        "x_train,x_test,y_train,y_test=train_test_split(Cells,labels,test_size=0.33,random_state=42)"
      ],
      "execution_count": 0,
      "outputs": []
    },
    {
      "cell_type": "code",
      "metadata": {
        "id": "30y1_pUN6Bje",
        "colab_type": "code",
        "outputId": "0ca8cae2-6b89-4fc0-a0b4-625cbae3a3af",
        "colab": {
          "base_uri": "https://localhost:8080/",
          "height": 492
        }
      },
      "source": [
        "model=Sequential()\n",
        "model.add(Conv2D(filters=16, kernel_size=2, padding=\"same\", activation=\"relu\", input_shape=(50,50,3)))\n",
        "model.add(MaxPooling2D(pool_size=2))\n",
        "model.add(Conv2D(filters=32, kernel_size=2, padding=\"same\", activation=\"relu\"))\n",
        "model.add(MaxPooling2D(pool_size=2))\n",
        "model.add(Conv2D(filters=64,kernel_size=2,padding=\"same\",activation=\"relu\"))\n",
        "model.add(MaxPooling2D(pool_size=2))\n",
        "model.add(Dropout(0,2))\n",
        "model.add(Flatten())\n",
        "model.add(Dense(500,activation=\"relu\"))\n",
        "model.add(Dense(2,activation=\"softmax\"))\n",
        "model.summary()"
      ],
      "execution_count": 0,
      "outputs": [
        {
          "output_type": "stream",
          "text": [
            "_________________________________________________________________\n",
            "Layer (type)                 Output Shape              Param #   \n",
            "=================================================================\n",
            "conv2d_17 (Conv2D)           (None, 50, 50, 16)        208       \n",
            "_________________________________________________________________\n",
            "max_pooling2d_12 (MaxPooling (None, 25, 25, 16)        0         \n",
            "_________________________________________________________________\n",
            "conv2d_18 (Conv2D)           (None, 25, 25, 32)        2080      \n",
            "_________________________________________________________________\n",
            "max_pooling2d_13 (MaxPooling (None, 12, 12, 32)        0         \n",
            "_________________________________________________________________\n",
            "conv2d_19 (Conv2D)           (None, 12, 12, 64)        8256      \n",
            "_________________________________________________________________\n",
            "max_pooling2d_14 (MaxPooling (None, 6, 6, 64)          0         \n",
            "_________________________________________________________________\n",
            "dropout_3 (Dropout)          (None, 6, 6, 64)          0         \n",
            "_________________________________________________________________\n",
            "flatten_3 (Flatten)          (None, 2304)              0         \n",
            "_________________________________________________________________\n",
            "dense_5 (Dense)              (None, 500)               1152500   \n",
            "_________________________________________________________________\n",
            "dense_6 (Dense)              (None, 2)                 1002      \n",
            "=================================================================\n",
            "Total params: 1,164,046\n",
            "Trainable params: 1,164,046\n",
            "Non-trainable params: 0\n",
            "_________________________________________________________________\n"
          ],
          "name": "stdout"
        }
      ]
    },
    {
      "cell_type": "code",
      "metadata": {
        "id": "gw1jap868azk",
        "colab_type": "code",
        "colab": {}
      },
      "source": [
        "model.compile(loss='categorical_crossentropy',optimizer='adam',metrics=['accuracy'])"
      ],
      "execution_count": 0,
      "outputs": []
    },
    {
      "cell_type": "code",
      "metadata": {
        "id": "je1bY7Wg8_8W",
        "colab_type": "code",
        "outputId": "efee38ef-a97c-485d-cd12-02bf1d639a79",
        "colab": {
          "base_uri": "https://localhost:8080/",
          "height": 738
        }
      },
      "source": [
        "model.fit(x_train,y_train,batch_size=50,epochs=20,verbose=1)"
      ],
      "execution_count": 0,
      "outputs": [
        {
          "output_type": "stream",
          "text": [
            "Epoch 1/20\n",
            "18463/18463 [==============================] - 57s 3ms/step - loss: 0.4611 - acc: 0.7723\n",
            "Epoch 2/20\n",
            "18463/18463 [==============================] - 55s 3ms/step - loss: 0.1798 - acc: 0.9359\n",
            "Epoch 3/20\n",
            "18463/18463 [==============================] - 55s 3ms/step - loss: 0.1503 - acc: 0.9497\n",
            "Epoch 4/20\n",
            "18463/18463 [==============================] - 55s 3ms/step - loss: 0.1316 - acc: 0.9564\n",
            "Epoch 5/20\n",
            "18463/18463 [==============================] - 55s 3ms/step - loss: 0.1176 - acc: 0.9595\n",
            "Epoch 6/20\n",
            "18463/18463 [==============================] - 55s 3ms/step - loss: 0.1040 - acc: 0.9632\n",
            "Epoch 7/20\n",
            "18463/18463 [==============================] - 54s 3ms/step - loss: 0.0932 - acc: 0.9677\n",
            "Epoch 8/20\n",
            "18463/18463 [==============================] - 54s 3ms/step - loss: 0.0814 - acc: 0.9718\n",
            "Epoch 9/20\n",
            "18463/18463 [==============================] - 55s 3ms/step - loss: 0.0677 - acc: 0.9760\n",
            "Epoch 10/20\n",
            "18463/18463 [==============================] - 55s 3ms/step - loss: 0.0563 - acc: 0.9794\n",
            "Epoch 11/20\n",
            "18463/18463 [==============================] - 56s 3ms/step - loss: 0.0463 - acc: 0.9835\n",
            "Epoch 12/20\n",
            "18463/18463 [==============================] - 55s 3ms/step - loss: 0.0369 - acc: 0.9865\n",
            "Epoch 13/20\n",
            "18463/18463 [==============================] - 54s 3ms/step - loss: 0.0290 - acc: 0.9895\n",
            "Epoch 14/20\n",
            "18463/18463 [==============================] - 55s 3ms/step - loss: 0.0215 - acc: 0.9919\n",
            "Epoch 15/20\n",
            "18463/18463 [==============================] - 55s 3ms/step - loss: 0.0198 - acc: 0.9933\n",
            "Epoch 16/20\n",
            "18463/18463 [==============================] - 55s 3ms/step - loss: 0.0136 - acc: 0.9957\n",
            "Epoch 17/20\n",
            "18463/18463 [==============================] - 55s 3ms/step - loss: 0.0113 - acc: 0.9959\n",
            "Epoch 18/20\n",
            "18463/18463 [==============================] - 55s 3ms/step - loss: 0.0128 - acc: 0.9956\n",
            "Epoch 19/20\n",
            "18463/18463 [==============================] - 55s 3ms/step - loss: 0.0111 - acc: 0.9961\n",
            "Epoch 20/20\n",
            "18463/18463 [==============================] - 55s 3ms/step - loss: 0.0107 - acc: 0.9964\n"
          ],
          "name": "stdout"
        },
        {
          "output_type": "execute_result",
          "data": {
            "text/plain": [
              "<keras.callbacks.History at 0x7f7e43ac2eb8>"
            ]
          },
          "metadata": {
            "tags": []
          },
          "execution_count": 121
        }
      ]
    },
    {
      "cell_type": "code",
      "metadata": {
        "id": "49jCcvGLFcmR",
        "colab_type": "code",
        "outputId": "756bb818-88a9-47bb-9f75-57bec5984098",
        "colab": {
          "base_uri": "https://localhost:8080/",
          "height": 34
        }
      },
      "source": [
        "accuracy=model.evaluate(x_test, y_test)"
      ],
      "execution_count": 0,
      "outputs": [
        {
          "output_type": "stream",
          "text": [
            "9095/9095 [==============================] - 9s 945us/step\n"
          ],
          "name": "stdout"
        }
      ]
    },
    {
      "cell_type": "code",
      "metadata": {
        "id": "rI9AKKzn8_0L",
        "colab_type": "code",
        "outputId": "a8143ff5-a2a7-4f50-cb08-b9751f1beb2e",
        "colab": {
          "base_uri": "https://localhost:8080/",
          "height": 52
        }
      },
      "source": [
        "print('\\n, Test Accuracy', accuracy)"
      ],
      "execution_count": 0,
      "outputs": [
        {
          "output_type": "stream",
          "text": [
            "\n",
            ", Test Accuracy [0.2901551983341751, 0.9505222649873122]\n"
          ],
          "name": "stdout"
        }
      ]
    }
  ]
}